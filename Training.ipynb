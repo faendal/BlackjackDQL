{
 "cells": [
  {
   "cell_type": "code",
   "execution_count": null,
   "id": "b554af7d",
   "metadata": {},
   "outputs": [],
   "source": [
    "import torch\n",
    "from src.Trainer import Trainer\n",
    "\n",
    "device = torch.device(\"cuda\" if torch.cuda.is_available() else \"cpu\")"
   ]
  },
  {
   "cell_type": "code",
   "execution_count": null,
   "id": "e4652e5a",
   "metadata": {},
   "outputs": [],
   "source": [
    "trainer = Trainer(\n",
    "    n_episodes=5000,\n",
    "    max_t=100,\n",
    "    eps_start=1.0,\n",
    "    eps_end=0.01,\n",
    "    eps_decay=0.995,\n",
    "    model_save_path=\"models/\",\n",
    "    load_model_path=None,\n",
    "    device=device,\n",
    "    seed=0,\n",
    ")"
   ]
  },
  {
   "cell_type": "code",
   "execution_count": null,
   "id": "139886b6",
   "metadata": {},
   "outputs": [],
   "source": [
    "trainer.train()\n",
    "trainer.save_model(\"dqn_blackjack.pth\")\n",
    "trainer.plot_scores()"
   ]
  }
 ],
 "metadata": {
  "kernelspec": {
   "display_name": ".venv",
   "language": "python",
   "name": "python3"
  },
  "language_info": {
   "name": "python",
   "version": "3.12.9"
  }
 },
 "nbformat": 4,
 "nbformat_minor": 5
}
